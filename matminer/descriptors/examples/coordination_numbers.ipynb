{
 "cells": [
  {
   "cell_type": "code",
   "execution_count": 6,
   "metadata": {
    "collapsed": false
   },
   "outputs": [],
   "source": [
    "from matminer.descriptors.structure_features import CN_OKeeffes, CN_OKeeffes_mod, CN_BrunnerReal, \\\n",
    "                                                CN_BrunnerReciprocal, CN_BrunnerRelative, CN_ECoN"
   ]
  },
  {
   "cell_type": "markdown",
   "metadata": {},
   "source": [
    "# Currently avaialble CN algorithms in MatMiner. \n",
    "\n",
    "Each algorithm starts with CN_ and is derived from the CNBase class.\n",
    "\n",
    "* **CN_Okeeffes:** Weighted Voronoi CNs (O'Keeffe's method).\n",
    "* **CN_Okeeffes_mod:** A modified version of OKeeffe's algorithm.\n",
    "* **CN_ECoN:** Effective Coordination Numbers, ECoN, (Hoppe's method).\n",
    "* **CN_BrunnerReciprocal:** Brunner's method of largest reciprocal gap in interactomic distances.\n",
    "* **CN_BrunnerRelative:** Brunner's method of largest relative gap in interactomic distances.\n",
    "* **CN_BrunnerReal:** Brunner's method of largest gap in interactomic distances."
   ]
  },
  {
   "cell_type": "code",
   "execution_count": 8,
   "metadata": {
    "collapsed": true
   },
   "outputs": [],
   "source": [
    "# Each algorithm is a class, which can be initialized with its own parameters\n",
    "\n",
    "okeeffe_params = {\"cutoff\": 10.0}\n",
    "econ_parmas = {\"radius\": 10.0}\n",
    "\n",
    "\n"
   ]
  },
  {
   "cell_type": "markdown",
   "metadata": {},
   "source": [
    "# Example use of algorithms:"
   ]
  },
  {
   "cell_type": "code",
   "execution_count": 9,
   "metadata": {
    "collapsed": false
   },
   "outputs": [
    {
     "name": "stdout",
     "output_type": "stream",
     "text": [
      "{u'As': 3.9999999982682555, u'Ga': 0.5381161641802799}\n",
      "{u'As': 4}\n",
      "{u'As': 4.0, u'Ga': 12.0}\n",
      "{u'As': 4.0}\n",
      "{u'As': 4.0, u'Ga': 12.0}\n",
      "{u'As': 4.000000720303867, u'Ga': 1.896561960444926e-07}\n"
     ]
    }
   ],
   "source": [
    "# Each algorithm takes a structure and site index as input and \n",
    "# returns the coordination numbers for that site as a dict.\n",
    "\n",
    "\n",
    "# Let's calculate CNs for site with index 0 in \"mp-2534\" from Materials Project using our algorithms:\n",
    "\n",
    "cn_methods = [CN_OKeeffes(params=okeeffe_params), CN_OKeeffes_mod(), CN_BrunnerReal(), \n",
    "            CN_BrunnerReciprocal(), CN_BrunnerRelative(), CN_ECoN(params=econ_parmas)]\n",
    "\n",
    "test_mpid = \"mp-2534\"\n",
    "from pymatgen import MPRester\n",
    "with MPRester() as mp:\n",
    "    test_struct = mp.get_structure_by_material_id(test_mpid)\n",
    "\n",
    "for cn_method in cn_methods:\n",
    "    print cn_method.compute(test_struct, 0)"
   ]
  }
 ],
 "metadata": {
  "kernelspec": {
   "display_name": "Python 2",
   "language": "python",
   "name": "python2"
  },
  "language_info": {
   "codemirror_mode": {
    "name": "ipython",
    "version": 2
   },
   "file_extension": ".py",
   "mimetype": "text/x-python",
   "name": "python",
   "nbconvert_exporter": "python",
   "pygments_lexer": "ipython2",
   "version": "2.7.10"
  }
 },
 "nbformat": 4,
 "nbformat_minor": 0
}
